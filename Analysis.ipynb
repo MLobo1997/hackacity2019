{
 "cells": [
  {
   "cell_type": "markdown",
   "metadata": {},
   "source": [
    "# Analysis"
   ]
  },
  {
   "cell_type": "code",
   "execution_count": 1,
   "metadata": {},
   "outputs": [],
   "source": [
    "import pandas as pd"
   ]
  },
  {
   "cell_type": "code",
   "execution_count": 2,
   "metadata": {},
   "outputs": [
    {
     "data": {
      "text/html": [
       "<div>\n",
       "<style scoped>\n",
       "    .dataframe tbody tr th:only-of-type {\n",
       "        vertical-align: middle;\n",
       "    }\n",
       "\n",
       "    .dataframe tbody tr th {\n",
       "        vertical-align: top;\n",
       "    }\n",
       "\n",
       "    .dataframe thead th {\n",
       "        text-align: right;\n",
       "    }\n",
       "</style>\n",
       "<table border=\"1\" class=\"dataframe\">\n",
       "  <thead>\n",
       "    <tr style=\"text-align: right;\">\n",
       "      <th></th>\n",
       "      <th>id</th>\n",
       "      <th>nome</th>\n",
       "      <th>ano_registo</th>\n",
       "      <th>type</th>\n",
       "      <th>n_reg</th>\n",
       "      <th>lat</th>\n",
       "      <th>lon</th>\n",
       "      <th>score</th>\n",
       "    </tr>\n",
       "  </thead>\n",
       "  <tbody>\n",
       "    <tr>\n",
       "      <th>0</th>\n",
       "      <td>141</td>\n",
       "      <td>caldeireiros</td>\n",
       "      <td>2016</td>\n",
       "      <td>Apartamento</td>\n",
       "      <td>25307/AL</td>\n",
       "      <td>41.145349</td>\n",
       "      <td>-8.613683</td>\n",
       "      <td>{'global': 9.0, 'staff': 8.5, 'commodities': 8...</td>\n",
       "    </tr>\n",
       "    <tr>\n",
       "      <th>1</th>\n",
       "      <td>241</td>\n",
       "      <td>hospedaria do bonfim</td>\n",
       "      <td>2013</td>\n",
       "      <td>Estabelecimento de hospedagem</td>\n",
       "      <td>5644/AL</td>\n",
       "      <td>41.150024</td>\n",
       "      <td>-8.595375</td>\n",
       "      <td>{'global': 6.6, 'staff': 7.4, 'commodities': 5...</td>\n",
       "    </tr>\n",
       "    <tr>\n",
       "      <th>2</th>\n",
       "      <td>457</td>\n",
       "      <td>alegria rooms</td>\n",
       "      <td>2016</td>\n",
       "      <td>Estabelecimento de hospedagem</td>\n",
       "      <td>31660/AL</td>\n",
       "      <td>41.146709</td>\n",
       "      <td>-8.603717</td>\n",
       "      <td>{'global': 8.2, 'staff': 8.8, 'commodities': 7...</td>\n",
       "    </tr>\n",
       "    <tr>\n",
       "      <th>3</th>\n",
       "      <td>495</td>\n",
       "      <td>casa paraíso</td>\n",
       "      <td>2016</td>\n",
       "      <td>Apartamento</td>\n",
       "      <td>32765/AL</td>\n",
       "      <td>41.157550</td>\n",
       "      <td>-8.608751</td>\n",
       "      <td>{'global': 9.5, 'staff': 10.0, 'commodities': ...</td>\n",
       "    </tr>\n",
       "    <tr>\n",
       "      <th>4</th>\n",
       "      <td>582</td>\n",
       "      <td>o santo da lapa</td>\n",
       "      <td>2016</td>\n",
       "      <td>Moradia</td>\n",
       "      <td>31616/AL</td>\n",
       "      <td>41.158944</td>\n",
       "      <td>-8.613953</td>\n",
       "      <td>{'global': 8.4, 'staff': 9.1, 'commodities': 8...</td>\n",
       "    </tr>\n",
       "  </tbody>\n",
       "</table>\n",
       "</div>"
      ],
      "text/plain": [
       "    id                  nome  ano_registo                           type  \\\n",
       "0  141          caldeireiros         2016                    Apartamento   \n",
       "1  241  hospedaria do bonfim         2013  Estabelecimento de hospedagem   \n",
       "2  457         alegria rooms         2016  Estabelecimento de hospedagem   \n",
       "3  495          casa paraíso         2016                    Apartamento   \n",
       "4  582       o santo da lapa         2016                        Moradia   \n",
       "\n",
       "      n_reg        lat       lon  \\\n",
       "0  25307/AL  41.145349 -8.613683   \n",
       "1   5644/AL  41.150024 -8.595375   \n",
       "2  31660/AL  41.146709 -8.603717   \n",
       "3  32765/AL  41.157550 -8.608751   \n",
       "4  31616/AL  41.158944 -8.613953   \n",
       "\n",
       "                                               score  \n",
       "0  {'global': 9.0, 'staff': 8.5, 'commodities': 8...  \n",
       "1  {'global': 6.6, 'staff': 7.4, 'commodities': 5...  \n",
       "2  {'global': 8.2, 'staff': 8.8, 'commodities': 7...  \n",
       "3  {'global': 9.5, 'staff': 10.0, 'commodities': ...  \n",
       "4  {'global': 8.4, 'staff': 9.1, 'commodities': 8...  "
      ]
     },
     "execution_count": 2,
     "metadata": {},
     "output_type": "execute_result"
    }
   ],
   "source": [
    "df = pd.read_csv(\"final_dataset.csv\")\n",
    "df.head(5)"
   ]
  },
  {
   "cell_type": "markdown",
   "metadata": {},
   "source": [
    "# Clustering"
   ]
  },
  {
   "cell_type": "code",
   "execution_count": 18,
   "metadata": {},
   "outputs": [],
   "source": [
    "from sklearn.cluster import KMeans\n",
    "import matplotlib.pyplot as plt"
   ]
  },
  {
   "cell_type": "code",
   "execution_count": 58,
   "metadata": {},
   "outputs": [],
   "source": [
    "kmeans = KMeans(n_clusters=2, random_state=0, algorithm=\"full\").fit(df[[\"ano_registo\", \"lat\", \"lon\"]])"
   ]
  },
  {
   "cell_type": "code",
   "execution_count": 56,
   "metadata": {},
   "outputs": [
    {
     "data": {
      "text/plain": [
       "array([3, 2, 3, 3, 3, 3, 3, 7, 4, 5, 5, 5, 7, 7, 4, 4, 4, 0, 7, 7, 6, 7,\n",
       "       0, 5, 0, 0, 0, 0, 7, 6, 6, 6, 6, 6, 1, 6, 6, 6, 6, 6, 1, 6, 1, 1,\n",
       "       1, 1, 6])"
      ]
     },
     "execution_count": 56,
     "metadata": {},
     "output_type": "execute_result"
    }
   ],
   "source": [
    "kmeans.labels_"
   ]
  },
  {
   "cell_type": "code",
   "execution_count": 54,
   "metadata": {},
   "outputs": [
    {
     "name": "stdout",
     "output_type": "stream",
     "text": [
      "8\n"
     ]
    },
    {
     "data": {
      "text/plain": [
       "array([[2017.        ,   41.14440819,   -8.61753481],\n",
       "       [2018.        ,   41.14867583,   -8.61613459],\n",
       "       [2013.        ,   41.1500239 ,   -8.59537474],\n",
       "       [2016.        ,   41.15213794,   -8.60589247],\n",
       "       [2017.        ,   41.16228991,   -8.64722228],\n",
       "       [2017.        ,   41.14720802,   -8.60190722],\n",
       "       [2018.        ,   41.15425077,   -8.60580113],\n",
       "       [2017.        ,   41.15604987,   -8.60843394]])"
      ]
     },
     "execution_count": 54,
     "metadata": {},
     "output_type": "execute_result"
    }
   ],
   "source": [
    "centroids = kmeans.cluster_centers_\n",
    "print(len(centroids))\n",
    "centroids"
   ]
  },
  {
   "cell_type": "code",
   "execution_count": 59,
   "metadata": {},
   "outputs": [
    {
     "data": {
      "image/png": "[encoded data removed]",
      "text/plain": [
       "<Figure size 432x288 with 1 Axes>"
      ]
     },
     "metadata": {
      "needs_background": "light"
     },
     "output_type": "display_data"
    }
   ],
   "source": [
    "plt.scatter(centroids[:, 0], centroids[:, 1], marker='x', s=169, linewidths=3, color='b', zorder=10)\n",
    "plt.show()"
   ]
  },
  {
   "cell_type": "code",
   "execution_count": 80,
   "metadata": {},
   "outputs": [
    {
     "name": "stdout",
     "output_type": "stream",
     "text": [
      "ideal clusters =  1 with a gain of 13.762268412858248\n"
     ]
    },
    {
     "data": {
      "image/png": "[encoded data removed]",
      "text/plain": [
       "<Figure size 864x288 with 1 Axes>"
      ]
     },
     "metadata": {
      "image/png": {
       "height": 277,
       "width": 727
      },
      "needs_background": "light"
     },
     "output_type": "display_data"
    }
   ],
   "source": [
    "%matplotlib inline\n",
    "%config InlineBackend.figure_format = 'retina'\n",
    "\n",
    "cl_df = df[[\"ano_registo\", \"lat\", \"lon\"]]\n",
    "Nc = range(1,10)\n",
    "kmeans = [KMeans(n_clusters=i, random_state=0) for i in Nc]\n",
    "score = [kmeans[i].fit(cl_df).score(cl_df) for i in range(len(kmeans))]\n",
    "\n",
    "# calculate best k\n",
    "var, start = [], score[0]\n",
    "for s in score[1:]: var.append(abs(start-s)); start = s\n",
    "var=var[1:]\n",
    "print(\"ideal clusters = \", 1 + var.index(max(var)), \"with a gain of\", max(var))\n",
    "\n",
    "# plot curve\n",
    "plt.figure(figsize=(12,4))\n",
    "plt.plot(Nc,score)\n",
    "plt.xlabel('Number of Clusters')\n",
    "plt.ylabel('Score')\n",
    "plt.title('Elbow Curve')\n",
    "plt.show()"
   ]
  },
  {
   "cell_type": "markdown",
   "metadata": {},
   "source": [
    "# Regression"
   ]
  },
  {
   "cell_type": "code",
   "execution_count": null,
   "metadata": {},
   "outputs": [],
   "source": []
  }
 ],
 "metadata": {
  "kernelspec": {
   "display_name": "Python 3",
   "language": "python",
   "name": "python3"
  },
  "language_info": {
   "codemirror_mode": {
    "name": "ipython",
    "version": 3
   },
   "file_extension": ".py",
   "mimetype": "text/x-python",
   "name": "python",
   "nbconvert_exporter": "python",
   "pygments_lexer": "ipython3",
   "version": "3.7.2"
  },
  "latex_envs": {
   "LaTeX_envs_menu_present": true,
   "autoclose": false,
   "autocomplete": true,
   "bibliofile": "biblio.bib",
   "cite_by": "apalike",
   "current_citInitial": 1,
   "eqLabelWithNumbers": true,
   "eqNumInitial": 1,
   "hotkeys": {
    "equation": "Ctrl-E",
    "itemize": "Ctrl-I"
   },
   "labels_anchors": false,
   "latex_user_defs": false,
   "report_style_numbering": false,
   "user_envs_cfg": false
  }
 },
 "nbformat": 4,
 "nbformat_minor": 2
}
