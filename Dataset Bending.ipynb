{
 "cells": [
  {
   "cell_type": "code",
   "execution_count": 3,
   "metadata": {},
   "outputs": [],
   "source": [
    "import requests, json\n",
    "from pprint import pprint"
   ]
  },
  {
   "cell_type": "markdown",
   "metadata": {},
   "source": [
    "### List all datasets"
   ]
  },
  {
   "cell_type": "code",
   "execution_count": 2,
   "metadata": {},
   "outputs": [],
   "source": [
    "def get_all_datasets():\n",
    "    url = \"https://opendata.urbanplatform.portodigital.pt/api/3/action/package_list\";\n",
    "    r = requests.get(url)\n",
    "    return r.json()[\"result\"]"
   ]
  },
  {
   "cell_type": "code",
   "execution_count": 3,
   "metadata": {},
   "outputs": [],
   "source": [
    "datasets = get_all_datasets()\n",
    "# print(datasets)"
   ]
  },
  {
   "cell_type": "markdown",
   "metadata": {},
   "source": [
    "### Get Information for custom dataset, by name\n",
    "If `url_only` is true, returns location of data, else a tuple of `(dataset-resource, FORMAT, URL)`"
   ]
  },
  {
   "cell_type": "code",
   "execution_count": 4,
   "metadata": {},
   "outputs": [],
   "source": [
    "def get_dataset_info(dataset, url_only=True):\n",
    "    # returns a generator for (dataset-resource, FORMAT, URL) or just the URL\n",
    "    url = \"https://opendata.urbanplatform.portodigital.pt/api/3/action/package_show?id=%s\" % dataset\n",
    "    j = requests.get(url).json()\n",
    "    if not j[\"success\"]: print(j[\"error\"]); return\n",
    "    for resource in j['result']['resources']:\n",
    "        if url_only: yield resource[\"url\"]\n",
    "        else: yield (resource[\"name\"], resource[\"format\"], resource[\"url\"])"
   ]
  },
  {
   "cell_type": "code",
   "execution_count": 5,
   "metadata": {},
   "outputs": [
    {
     "name": "stdout",
     "output_type": "stream",
     "text": [
      "https://servsig.cm-porto.pt/arcgis/rest/services/OpenData_APD/OpenData_APD/MapServer/35\n",
      "[('Alojamento Local', 'Esri REST', 'https://servsig.cm-porto.pt/arcgis/rest/services/OpenData_APD/OpenData_APD/MapServer/35')]\n"
     ]
    }
   ],
   "source": [
    "alojamento = list(get_dataset_info(datasets[1]))[0]\n",
    "print(alojamento)\n",
    "print(list(get_dataset_info(datasets[1], False)))"
   ]
  },
  {
   "cell_type": "code",
   "execution_count": 6,
   "metadata": {},
   "outputs": [
    {
     "data": {
      "text/plain": [
       "['https://broker.fiware.urbanplatform.portodigital.pt/v2/entities?type=WeatherObserved',\n",
       " 'https://broker.fiware.urbanplatform.portodigital.pt/v2/entities?type=WeatherForecast']"
      ]
     },
     "execution_count": 6,
     "metadata": {},
     "output_type": "execute_result"
    }
   ],
   "source": [
    "# exemplo com vários\n",
    "list(get_dataset_info(\"porto-meteorologia\"))"
   ]
  },
  {
   "cell_type": "code",
   "execution_count": 7,
   "metadata": {},
   "outputs": [
    {
     "name": "stdout",
     "output_type": "stream",
     "text": [
      "{'message': 'Access denied: User  not authorized to read package d5d1106b-5db6-4434-b1b2-9083d9fb1f49', '__type': 'Authorization Error'}\n"
     ]
    },
    {
     "data": {
      "text/plain": [
       "[]"
      ]
     },
     "execution_count": 7,
     "metadata": {},
     "output_type": "execute_result"
    }
   ],
   "source": [
    "# exemplo com csv que dá \"Access denied\"\n",
    "list(get_dataset_info(\"apdg-zonas-de-estacionamento-pago\"))"
   ]
  },
  {
   "cell_type": "markdown",
   "metadata": {},
   "source": [
    "### Get data from url\n",
    " * Set the query params\n",
    " * Specify how to parse result\n",
    " * function to handle request result and return generator of datapoints"
   ]
  },
  {
   "cell_type": "code",
   "execution_count": 8,
   "metadata": {},
   "outputs": [],
   "source": [
    "DEFAULT_REQ_PARAMS = {'where': \"1=1\", 'returnGeometry': 'true','orderByFields': 'objectid ASC', 'outSR': '4326'}"
   ]
  },
  {
   "cell_type": "code",
   "execution_count": 9,
   "metadata": {},
   "outputs": [],
   "source": [
    "def remove_useless_from_dict(dic):\n",
    "    return {k: v for k, v in dic.items() if v and v!=\" \"}\n",
    "def parse_features_geojson(x):\n",
    "    features = x[\"properties\"]\n",
    "    features[\"coordinates\"] = x[\"geometry\"][\"coordinates\"]\n",
    "    return remove_useless_from_dict(features)\n",
    "def parse_features_json(x): return remove_useless_from_dict(x[\"attributes\"])"
   ]
  },
  {
   "cell_type": "code",
   "execution_count": 10,
   "metadata": {},
   "outputs": [],
   "source": [
    "def get_dataset_data(dataset_url, req_params={\"f\":\"json\"}, f=\"geojson\", fields=\"*\", offset=0):\n",
    "    # default format could be json, but this gives x, y and not lat, lon\n",
    "    params = DEFAULT_REQ_PARAMS; params.update(req_params); params[\"f\"] = f; params[\"outFields\"]=fields;\n",
    "    params[\"resultOffset\"]=offset\n",
    "    data = requests.get(dataset_url + \"/query\", params=params).json()\n",
    "    get_attributes = parse_features_geojson if f==\"geojson\" else parse_features_json\n",
    "    return map(parse_features_geojson, data[\"features\"])"
   ]
  },
  {
   "cell_type": "code",
   "execution_count": 44,
   "metadata": {},
   "outputs": [],
   "source": [
    "def get_dataset_data(dataset_url, req_params={\"f\":\"json\"}, f=\"geojson\", fields=\"*\", offset=0):\n",
    "    if \"fiware\" in dataset_url:\n",
    "#         pprint(requests.get(dataset_url).json()[0])\n",
    "        def get_att(x): \n",
    "            x.update({\"lon\": x[\"location\"][\"value\"][\"coordinates\"][0], \"lat\":x[\"location\"][\"value\"][\"coordinates\"][1]})\n",
    "            return x\n",
    "        return map(get_att, requests.get(dataset_url).json())\n",
    "    else:\n",
    "        # default format could be json, but this gives x, y and not lat, lon\n",
    "        params = DEFAULT_REQ_PARAMS; params.update(req_params); params[\"f\"] = f; params[\"outFields\"]=fields; params[\"resultOffset\"]=offset\n",
    "        data = requests.get(dataset_url + \"/query\", params=params).json()\n",
    "        get_attributes = parse_features_geojson if f==\"geojson\" else parse_features_json\n",
    "        return map(parse_features_geojson, data[\"features\"])"
   ]
  },
  {
   "cell_type": "code",
   "execution_count": 45,
   "metadata": {
    "scrolled": false
   },
   "outputs": [
    {
     "data": {
      "text/plain": [
       "{'id': 'urn:ngsi-ld:PointOfInterest:porto:portalturismo:31:1207',\n",
       " 'type': 'PointOfInterest',\n",
       " 'accessibility': {'type': 'Text', 'value': None, 'metadata': {}},\n",
       " 'accessibility_es': {'type': 'Text', 'value': None, 'metadata': {}},\n",
       " 'accessibility_pt': {'type': 'Text', 'value': None, 'metadata': {}},\n",
       " 'address': {'type': 'StructuredValue',\n",
       "  'value': {'addressLocality': 'Porto',\n",
       "   'postalCode': '4100-321',\n",
       "   'streetAddress': 'Rua Manuel Pinto de Azevedo, 64',\n",
       "   'addressRegion': 'RAMALDE'},\n",
       "  'metadata': {}},\n",
       " 'category': {'type': 'StructuredValue', 'value': ['123'], 'metadata': {}},\n",
       " 'closedOnHoliday': {'type': 'Text', 'value': None, 'metadata': {}},\n",
       " 'contactPoint': {'type': 'StructuredValue',\n",
       "  'value': {'url': None,\n",
       "   'faxNumber': '+351226168337',\n",
       "   'telephone': '+351226168335',\n",
       "   'email': 'joana.lencastre@1000paladares.com.pt'},\n",
       "  'metadata': {}},\n",
       " 'costDescription': {'type': 'Text', 'value': 'Undefined', 'metadata': {}},\n",
       " 'costDescription_es': {'type': 'Text',\n",
       "  'value': 'No definido',\n",
       "  'metadata': {}},\n",
       " 'costDescription_pt': {'type': 'Text',\n",
       "  'value': 'Não definido',\n",
       "  'metadata': {}},\n",
       " 'dateModified': {'type': 'DateTime',\n",
       "  'value': '2017-02-27T00:00:00.00Z',\n",
       "  'metadata': {}},\n",
       " 'description': {'type': 'Text',\n",
       "  'value': 'The store offers to all lovers of good cooking, products such as Douro wines, jams, honey, herbs, olive oil, vinegar, dried fruit, tea, olives, comfit, liqueur and many other products. Everything for those who appreciate good food. The highlight goes to grapes products and chocolates. It also sells kitchenware and barware. In 1000 Paladares You can do training in the kitchen according to the annual schedule, or reserve the space for groups.',\n",
       "  'metadata': {}},\n",
       " 'description_es': {'type': 'Text',\n",
       "  'value': 'La tienda pone a disposición de los amantes de la buena cocina productos como los vinos del Duero, mermeladas, miel, hierbas, aceite de oliva, vinagre, frutos secos, té, aceitunas, confitados, licores y muchos otros. Todo para todos los que disfrutan de la buena gastronomía. Se destacan los productos de la uva y los chocolates. También vende utensilios de cocina y bar. La 1000 Paladares, usted puede hacer formación en  cocina de acuerdo con la programación anual, o  reservar el espacio  para grupos.',\n",
       "  'metadata': {}},\n",
       " 'description_pt': {'type': 'Text',\n",
       "  'value': 'Coloca à disposição dos apreciadores da boa cozinha produtos como vinhos do Douro, compotas, mel, ervas aromáticas, azeite, vinagre, frutos secos, chá, azeitonas, confitados, azeitonas, licores e muitos outros. De destacar os produtos de uva e os chocolates. Comercializa também utensílios de cozinha e barware. A 1000 Paladares pode fazer formação em cozinha de acordo com o calendário anual, ou reservar o espaço para grupos.',\n",
       "  'metadata': {}},\n",
       " 'internetAccess': {'type': 'Text', 'value': None, 'metadata': {}},\n",
       " 'internetWireless': {'type': 'Text', 'value': None, 'metadata': {}},\n",
       " 'location': {'type': 'geo:json',\n",
       "  'value': {'crs': {'type': 'name', 'properties': {'name': 'EPSG:4326'}},\n",
       "   'type': 'Point',\n",
       "   'coordinates': [-8.6471177, 41.1730777]},\n",
       "  'metadata': {}},\n",
       " 'multimedia': {'type': 'StructuredValue',\n",
       "  'value': [{'authorID': '1000 Paladares',\n",
       "    'label_pt': None,\n",
       "    'title': '1000 PALADARES',\n",
       "    'url': 'http://recursos.visitporto.travel/pois/1207_1.jpg',\n",
       "    'label_es': None,\n",
       "    'title_pt': '1000 PALADARES',\n",
       "    'label': None,\n",
       "    'title_es': '1000 PALADARES',\n",
       "    'rightsID': 'CC BY-NC-SA - Some Rights Reserved',\n",
       "    'rightsID_pt': 'CC BY-NC-SA - Alguns Direitos Reservados',\n",
       "    'rightsID_es': 'CC BY-NC-SA - Algunos Derechos Reservados'},\n",
       "   {'authorID': '1000 Paladares',\n",
       "    'label_pt': None,\n",
       "    'title': '1000 PALADARES',\n",
       "    'url': 'http://recursos.visitporto.travel/pois/1207_2.jpg',\n",
       "    'label_es': None,\n",
       "    'title_pt': '1000 PALADARES',\n",
       "    'label': None,\n",
       "    'title_es': '1000 PALADARES',\n",
       "    'rightsID': 'CC BY-NC-SA - Some Rights Reserved',\n",
       "    'rightsID_pt': 'CC BY-NC-SA - Alguns Direitos Reservados',\n",
       "    'rightsID_es': 'CC BY-NC-SA - Algunos Derechos Reservados'},\n",
       "   {'authorID': '1000 Paladares',\n",
       "    'label_pt': None,\n",
       "    'title': '1000 PALADARES',\n",
       "    'url': 'http://recursos.visitporto.travel/pois/1207_3.jpg',\n",
       "    'label_es': None,\n",
       "    'title_pt': '1000 PALADARES',\n",
       "    'label': None,\n",
       "    'title_es': '1000 PALADARES',\n",
       "    'rightsID': 'CC BY-NC-SA - Some Rights Reserved',\n",
       "    'rightsID_pt': 'CC BY-NC-SA - Alguns Direitos Reservados',\n",
       "    'rightsID_es': 'CC BY-NC-SA - Algunos Derechos Reservados'},\n",
       "   {'authorID': '1000 Paladares',\n",
       "    'label_pt': None,\n",
       "    'title': '1000 PALADARES',\n",
       "    'url': 'http://recursos.visitporto.travel/pois/1207_4.jpg',\n",
       "    'label_es': None,\n",
       "    'title_pt': '1000 PALADARES',\n",
       "    'label': None,\n",
       "    'title_es': '1000 PALADARES',\n",
       "    'rightsID': 'CC BY-NC-SA - Some Rights Reserved',\n",
       "    'rightsID_pt': 'CC BY-NC-SA - Alguns Direitos Reservados',\n",
       "    'rightsID_es': 'CC BY-NC-SA - Algunos Derechos Reservados'},\n",
       "   {'authorID': '1000 Paladares',\n",
       "    'label_pt': None,\n",
       "    'title': '1000 PALADARES',\n",
       "    'url': 'http://recursos.visitporto.travel/pois/1207_5.jpg',\n",
       "    'label_es': None,\n",
       "    'title_pt': '1000 PALADARES',\n",
       "    'label': None,\n",
       "    'title_es': '1000 PALADARES',\n",
       "    'rightsID': 'CC BY-NC-SA - Some Rights Reserved',\n",
       "    'rightsID_pt': 'CC BY-NC-SA - Alguns Direitos Reservados',\n",
       "    'rightsID_es': 'CC BY-NC-SA - Algunos Derechos Reservados'},\n",
       "   {'authorID': '1000 Paladares',\n",
       "    'label_pt': None,\n",
       "    'title': '1000 PALADARES',\n",
       "    'url': 'http://recursos.visitporto.travel/pois/1207_6.jpg',\n",
       "    'label_es': None,\n",
       "    'title_pt': '1000 PALADARES',\n",
       "    'label': None,\n",
       "    'title_es': '1000 PALADARES',\n",
       "    'rightsID': 'CC BY-NC-SA - Some Rights Reserved',\n",
       "    'rightsID_pt': 'CC BY-NC-SA - Alguns Direitos Reservados',\n",
       "    'rightsID_es': 'CC BY-NC-SA - Algunos Derechos Reservados'}],\n",
       "  'metadata': {}},\n",
       " 'name': {'type': 'Text', 'value': '1000 Paladares', 'metadata': {}},\n",
       " 'name_es': {'type': 'Text', 'value': '1000 Paladares', 'metadata': {}},\n",
       " 'name_pt': {'type': 'Text', 'value': '1000 Paladares', 'metadata': {}},\n",
       " 'openingHoursSpecification': {'type': 'StructuredValue',\n",
       "  'value': [{'description_es': 'Lun-Vie 09:00-13:00 / 14:00-18:00 Cerrado: Dom',\n",
       "    'description': 'Mon-Fri 09:00-13:00 / 14:00-18:00 Closed: Sun',\n",
       "    'description_pt': 'Seg-Sex 09:00-13:00 / 14:00-18:00 Encerrado: Dom'},\n",
       "   {'dayOfWeek': 'http://schema.org/Sunday',\n",
       "    'closes': '18:00:00',\n",
       "    'validFrom': '2019-01-01',\n",
       "    'validThrough': '2019-12-31',\n",
       "    'opens': '14:00:00'},\n",
       "   {'dayOfWeek': 'http://schema.org/Monday',\n",
       "    'closes': '18:00:00',\n",
       "    'validFrom': '2019-01-01',\n",
       "    'validThrough': '2019-12-31',\n",
       "    'opens': '14:00:00'},\n",
       "   {'dayOfWeek': 'http://schema.org/Tuesday',\n",
       "    'closes': '18:00:00',\n",
       "    'validFrom': '2019-01-01',\n",
       "    'validThrough': '2019-12-31',\n",
       "    'opens': '14:00:00'},\n",
       "   {'dayOfWeek': 'http://schema.org/Wednesday',\n",
       "    'closes': '18:00:00',\n",
       "    'validFrom': '2019-01-01',\n",
       "    'validThrough': '2019-12-31',\n",
       "    'opens': '14:00:00'},\n",
       "   {'dayOfWeek': 'http://schema.org/Thursday',\n",
       "    'closes': '18:00:00',\n",
       "    'validFrom': '2019-01-01',\n",
       "    'validThrough': '2019-12-31',\n",
       "    'opens': '14:00:00'},\n",
       "   {'dayOfWeek': 'http://schema.org/Friday',\n",
       "    'closes': '18:00:00',\n",
       "    'validFrom': '2019-01-01',\n",
       "    'validThrough': '2019-12-31',\n",
       "    'opens': '14:00:00'},\n",
       "   {'dayOfWeek': 'http://schema.org/Saturday',\n",
       "    'closes': '18:00:00',\n",
       "    'validFrom': '2019-01-01',\n",
       "    'validThrough': '2019-12-31',\n",
       "    'opens': '14:00:00'},\n",
       "   {'dayOfWeek': 'http://schema.org/Sunday',\n",
       "    'closes': '20:00:00',\n",
       "    'validFrom': '2019-01-01',\n",
       "    'validThrough': '2019-12-31',\n",
       "    'opens': '15:30:00'},\n",
       "   {'dayOfWeek': 'http://schema.org/Monday',\n",
       "    'closes': '20:00:00',\n",
       "    'validFrom': '2019-01-01',\n",
       "    'validThrough': '2019-12-31',\n",
       "    'opens': '15:30:00'},\n",
       "   {'dayOfWeek': 'http://schema.org/Tuesday',\n",
       "    'closes': '20:00:00',\n",
       "    'validFrom': '2019-01-01',\n",
       "    'validThrough': '2019-12-31',\n",
       "    'opens': '15:30:00'},\n",
       "   {'dayOfWeek': 'http://schema.org/Wednesday',\n",
       "    'closes': '20:00:00',\n",
       "    'validFrom': '2019-01-01',\n",
       "    'validThrough': '2019-12-31',\n",
       "    'opens': '15:30:00'},\n",
       "   {'dayOfWeek': 'http://schema.org/Thursday',\n",
       "    'closes': '20:00:00',\n",
       "    'validFrom': '2019-01-01',\n",
       "    'validThrough': '2019-12-31',\n",
       "    'opens': '15:30:00'},\n",
       "   {'dayOfWeek': 'http://schema.org/Friday',\n",
       "    'closes': '20:00:00',\n",
       "    'validFrom': '2019-01-01',\n",
       "    'validThrough': '2019-12-31',\n",
       "    'opens': '15:30:00'},\n",
       "   {'dayOfWeek': 'http://schema.org/Saturday',\n",
       "    'closes': '20:00:00',\n",
       "    'validFrom': '2019-01-01',\n",
       "    'validThrough': '2019-12-31',\n",
       "    'opens': '15:30:00'},\n",
       "   {'dayOfWeek': 'http://schema.org/Sunday',\n",
       "    'closes': '13:00:00',\n",
       "    'validFrom': '2019-01-01',\n",
       "    'validThrough': '2019-12-31',\n",
       "    'opens': '09:00:00'},\n",
       "   {'dayOfWeek': 'http://schema.org/Monday',\n",
       "    'closes': '13:00:00',\n",
       "    'validFrom': '2019-01-01',\n",
       "    'validThrough': '2019-12-31',\n",
       "    'opens': '09:00:00'},\n",
       "   {'dayOfWeek': 'http://schema.org/Tuesday',\n",
       "    'closes': '13:00:00',\n",
       "    'validFrom': '2019-01-01',\n",
       "    'validThrough': '2019-12-31',\n",
       "    'opens': '09:00:00'},\n",
       "   {'dayOfWeek': 'http://schema.org/Wednesday',\n",
       "    'closes': '13:00:00',\n",
       "    'validFrom': '2019-01-01',\n",
       "    'validThrough': '2019-12-31',\n",
       "    'opens': '09:00:00'},\n",
       "   {'dayOfWeek': 'http://schema.org/Thursday',\n",
       "    'closes': '13:00:00',\n",
       "    'validFrom': '2019-01-01',\n",
       "    'validThrough': '2019-12-31',\n",
       "    'opens': '09:00:00'},\n",
       "   {'dayOfWeek': 'http://schema.org/Friday',\n",
       "    'closes': '13:00:00',\n",
       "    'validFrom': '2019-01-01',\n",
       "    'validThrough': '2019-12-31',\n",
       "    'opens': '09:00:00'},\n",
       "   {'dayOfWeek': 'http://schema.org/Saturday',\n",
       "    'closes': '13:00:00',\n",
       "    'validFrom': '2019-01-01',\n",
       "    'validThrough': '2019-12-31',\n",
       "    'opens': '09:00:00'},\n",
       "   {'validFrom': '2020-01-01', 'validThrough': '2020-01-01'}],\n",
       "  'metadata': {}},\n",
       " 'smokingArea': {'type': 'Text', 'value': None, 'metadata': {}},\n",
       " 'socialNetwork': {'type': 'Text', 'value': None, 'metadata': {}},\n",
       " 'tag': {'type': 'Text', 'value': 'Gourmet', 'metadata': {}},\n",
       " 'tag_es': {'type': 'Text', 'value': 'Gourmet', 'metadata': {}},\n",
       " 'tag_pt': {'type': 'Text', 'value': 'Gourmet', 'metadata': {}},\n",
       " 'target': {'type': 'Text', 'value': None, 'metadata': {}},\n",
       " 'target_es': {'type': 'Text', 'value': None, 'metadata': {}},\n",
       " 'target_pt': {'type': 'Text', 'value': None, 'metadata': {}},\n",
       " 'touristic': {'type': 'Text', 'value': 'False', 'metadata': {}},\n",
       " 'wifi': {'type': 'Text', 'value': None, 'metadata': {}},\n",
       " 'lon': -8.6471177,\n",
       " 'lat': 41.1730777}"
      ]
     },
     "execution_count": 45,
     "metadata": {},
     "output_type": "execute_result"
    }
   ],
   "source": [
    "url=\"https://broker.fiware.urbanplatform.portodigital.pt/v2/entities?type=PointOfInterest\"\n",
    "next(get_dataset_data(url))"
   ]
  },
  {
   "cell_type": "code",
   "execution_count": 23,
   "metadata": {},
   "outputs": [
    {
     "name": "stdout",
     "output_type": "stream",
     "text": [
      "There are 1000 alojamentos\n",
      "After all there were 6657 alojamentos\n"
     ]
    }
   ],
   "source": [
    "alojamentos = list(get_dataset_data(alojamento))\n",
    "total = list(get_dataset_data_full(alojamento))\n",
    "print(\"There are %d alojamentos\" % len(alojamentos))\n",
    "print(\"After all there were %s alojamentos\" % len(total))\n",
    "# print(alojamentos)"
   ]
  },
  {
   "cell_type": "code",
   "execution_count": 29,
   "metadata": {},
   "outputs": [
    {
     "name": "stdout",
     "output_type": "stream",
     "text": [
      "{'objectid': 5001, 'data_levan': -2209161600000, 'cod_topo': 'RALEG1', 'n_pol': '362', 'nome_aloj': 'Plano de Fuga', 'ano_reg': 2018, 'n_reg': '69821/AL', 'qual_tit': 'Comodatario', 'tit_tipo': 'Pessoa singular (empresário em nome individual)', 'pos_1951': 'S', 'morada': 'Rua da Alegria', 'modalidade': 'Estabelecimento de hospedagem', 'n_policia': '362', 'cod_postal': '4000-035', 'data_reg': 1524441600000, 'data_ab': 1525132800000, 'coordinates': [-8.603564962722654, 41.152752988738456]}\n"
     ]
    }
   ],
   "source": [
    "print(total[5000])"
   ]
  },
  {
   "cell_type": "code",
   "execution_count": 31,
   "metadata": {},
   "outputs": [
    {
     "name": "stdout",
     "output_type": "stream",
     "text": [
      "6542\n"
     ]
    }
   ],
   "source": [
    "print(len(set(map(lambda x: str(x[\"coordinates\"]), total))))"
   ]
  }
 ],
 "metadata": {
  "kernelspec": {
   "display_name": "Python 3",
   "language": "python",
   "name": "python3"
  },
  "language_info": {
   "codemirror_mode": {
    "name": "ipython",
    "version": 3
   },
   "file_extension": ".py",
   "mimetype": "text/x-python",
   "name": "python",
   "nbconvert_exporter": "python",
   "pygments_lexer": "ipython3",
   "version": "3.7.2"
  },
  "latex_envs": {
   "LaTeX_envs_menu_present": true,
   "autoclose": false,
   "autocomplete": true,
   "bibliofile": "biblio.bib",
   "cite_by": "apalike",
   "current_citInitial": 1,
   "eqLabelWithNumbers": true,
   "eqNumInitial": 1,
   "hotkeys": {
    "equation": "Ctrl-E",
    "itemize": "Ctrl-I"
   },
   "labels_anchors": false,
   "latex_user_defs": false,
   "report_style_numbering": false,
   "user_envs_cfg": false
  }
 },
 "nbformat": 4,
 "nbformat_minor": 2
}
