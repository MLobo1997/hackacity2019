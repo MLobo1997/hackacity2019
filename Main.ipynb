{
 "cells": [
  {
   "cell_type": "code",
   "execution_count": 1,
   "metadata": {},
   "outputs": [],
   "source": [
    "from dataset_bending import get_all_datasets, get_dataset_info, get_dataset_data"
   ]
  },
  {
   "cell_type": "code",
   "execution_count": 6,
   "metadata": {},
   "outputs": [
    {
     "name": "stdout",
     "output_type": "stream",
     "text": [
      "https://servsig.cm-porto.pt/arcgis/rest/services/OpenData_APD/OpenData_APD/MapServer/35\n"
     ]
    }
   ],
   "source": [
    "url = next(get_dataset_info(\"alojamento-local\"))\n",
    "print(url)"
   ]
  },
  {
   "cell_type": "code",
   "execution_count": 9,
   "metadata": {},
   "outputs": [
    {
     "name": "stdout",
     "output_type": "stream",
     "text": [
      "{'objectid': 1, 'data_levan': 1488758400000, 'cod_dmpu': '140747', 'cod_topo': 'RCAMO0', 'n_pol': '77', 'nome_aloj': 'Metro Apartment', 'ano_reg': 2016, 'ano_ab': 2016, 'n_reg': '35375/AL', 'qual_tit': 'Proprietario', 'tit_tipo': 'Pessoa singular (empresário em nome individual)', 'pos_1951': 'S', 'morada': 'Rua Rua Camões, 77 1º 1.1', 'modalidade': 'Apartamento', 'cod_postal': '4000-144', 'data_reg': 1475193600000, 'data_ab': 1477958400000, 'coordinates': [-8.610274113044303, 41.1525537929996]}\n"
     ]
    }
   ],
   "source": [
    "datapoint = next(get_dataset_data(url))\n",
    "print(datapoint)"
   ]
  },
  {
   "cell_type": "code",
   "execution_count": 10,
   "metadata": {},
   "outputs": [
    {
     "name": "stdout",
     "output_type": "stream",
     "text": [
      "Dataset has 1000 datapoints\n"
     ]
    }
   ],
   "source": [
    "dataset = list(get_dataset_data(url))\n",
    "print(\"Dataset has %d datapoints\" % len(dataset))"
   ]
  }
 ],
 "metadata": {
  "kernelspec": {
   "display_name": "Python 3",
   "language": "python",
   "name": "python3"
  },
  "language_info": {
   "codemirror_mode": {
    "name": "ipython",
    "version": 3
   },
   "file_extension": ".py",
   "mimetype": "text/x-python",
   "name": "python",
   "nbconvert_exporter": "python",
   "pygments_lexer": "ipython3",
   "version": "3.7.2"
  },
  "latex_envs": {
   "LaTeX_envs_menu_present": true,
   "autoclose": false,
   "autocomplete": true,
   "bibliofile": "biblio.bib",
   "cite_by": "apalike",
   "current_citInitial": 1,
   "eqLabelWithNumbers": true,
   "eqNumInitial": 1,
   "hotkeys": {
    "equation": "Ctrl-E",
    "itemize": "Ctrl-I"
   },
   "labels_anchors": false,
   "latex_user_defs": false,
   "report_style_numbering": false,
   "user_envs_cfg": false
  }
 },
 "nbformat": 4,
 "nbformat_minor": 2
}
