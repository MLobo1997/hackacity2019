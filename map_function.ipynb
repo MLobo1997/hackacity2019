{
 "cells": [
  {
   "cell_type": "code",
   "execution_count": 39,
   "metadata": {},
   "outputs": [],
   "source": [
    "import matplotlib.pyplot as plt\n",
    "import pandas as pd\n",
    "import numpy as np\n",
    "from scipy.spatial import distance\n",
    "import utm\n",
    "from shapely.geometry import Point\n",
    "from shapely.geometry.polygon import Polygon"
   ]
  },
  {
   "cell_type": "code",
   "execution_count": 9,
   "metadata": {},
   "outputs": [
    {
     "data": {
      "text/plain": [
       "(39, 39)"
      ]
     },
     "execution_count": 9,
     "metadata": {},
     "output_type": "execute_result"
    }
   ],
   "source": [
    "lat= [41.176722143285566, 41.17659333150621, 41.17655439127667, 41.17650569946945, 41.176299453953774, 41.17627900362027, 41.17624547777815, 41.176202177596586, 41.17614859294905, 41.17611622154435, 41.176082421338144, 41.17602948030873, 41.17597889341166, 41.17592830004511, 41.1758534641387, 41.17577749515003, 41.17572499121969, 41.175623439447854, 41.17581198812489, 41.17614181064614, 41.176288783204775, 41.176509179569, 41.17648961713961, 41.176556721224806, 41.176615142982016, 41.17667031158486, 41.17668723826763, 41.176728317944246, 41.1767909731835, 41.17682498188173, 41.17683708794725, 41.1768734732024, 41.17688578048039, 41.17697823282421, 41.177009404476685, 41.17700412396125, 41.17693330628831, 41.17690677660588, 41.176722143285566]\n",
    "lon= [-8.663374078682251, -8.663148237958767, -8.663171991113469, -8.663205300454747, -8.663356182018457, -8.663306206302225, -8.663224050952005, -8.663125802345737, -8.66303063711307, -8.662972559296767, -8.662919309545142, -8.662836998924126, -8.66276275867605, -8.662690102277455, -8.662596348729322, -8.662504215313497, -8.662449233638524, -8.662352053299946, -8.66198111973919, -8.662275983882864, -8.661981753995397, -8.662574367217026, -8.66260632969649, -8.662789866973261, -8.662751840418723, -8.662899994710619, -8.66289049522976, -8.66295181033338, -8.663032619055913, -8.663010409670246, -8.663039416510253, -8.663020438038627, -8.662975567609537, -8.662940982556266, -8.663015112408349, -8.663092112819042, -8.663194326973201, -8.663181264365768, -8.663374078682251]\n",
    "len(lat), len(lon)"
   ]
  },
  {
   "cell_type": "code",
   "execution_count": 10,
   "metadata": {},
   "outputs": [],
   "source": [
    "def lat_lon_to_x_y(lat, lon):\n",
    "    \"\"\" Convert latitude-longitude pair to X-Y to be easier to plot.\"\"\"\n",
    "    return list(utm.from_latlon(lat, lon))[:2]"
   ]
  },
  {
   "cell_type": "code",
   "execution_count": 21,
   "metadata": {},
   "outputs": [
    {
     "data": {
      "text/plain": [
       "(array([528235.02523252, 528254.0233572 , 528252.04774897, 528249.27478413,\n",
       "        528236.70786615, 528240.90847442, 528247.81384298, 528256.0732785 ,\n",
       "        528264.0785203 , 528268.96385539, 528273.44484362, 528280.37162352,\n",
       "        528286.62047791, 528292.73649499, 528300.63253746, 528308.39319231,\n",
       "        528313.02754752, 528321.22257667, 528352.25447739, 528327.37981257,\n",
       "        528351.99568731, 528302.1940544 , 528299.52155824, 528284.09813797,\n",
       "        528287.26255382, 528274.8121175 , 528275.60162407, 528270.44105055,\n",
       "        528263.63614992, 528265.48437795, 528263.04618014, 528264.62238775,\n",
       "        528268.38067104, 528271.2417915 , 528265.0106487 , 528258.55440653,\n",
       "        528250.01148502, 528251.1185288 , 528235.02523252]),\n",
       " array([4558429.80727572, 4558415.580772  , 4558411.25018246,\n",
       "        4558405.83393794, 4558382.88900513, 4558380.63496587,\n",
       "        4558376.93982046, 4558372.16482655, 4558366.24712956,\n",
       "        4558362.67234218, 4558358.93737372, 4558353.08696841,\n",
       "        4558347.49528609, 4558341.90237599, 4558333.62509098,\n",
       "        4558325.22150049, 4558319.41076049, 4558308.1688005 ,\n",
       "        4558329.22096318, 4558365.73957702, 4558382.15128061,\n",
       "        4558406.42527656, 4558404.24319506, 4558411.63296297,\n",
       "        4558418.13090673, 4558424.20720051, 4558426.08937159,\n",
       "        4558430.62983581, 4558437.5591438 , 4558441.34177041,\n",
       "        4558442.67628196, 4558446.72168818, 4558448.10253263,\n",
       "        4558458.3771951 , 4558461.81357908, 4558461.20236558,\n",
       "        4558453.3074851 , 4558450.3665816 , 4558429.80727572]))"
      ]
     },
     "execution_count": 21,
     "metadata": {},
     "output_type": "execute_result"
    }
   ],
   "source": [
    "coor = np.array([list(utm.from_latlon(la, lo)[:2]) for la, lo in zip(lat, lon)])\n",
    "x = coor[:,0]\n",
    "y = coor[:,1]\n",
    "x, y"
   ]
  },
  {
   "cell_type": "code",
   "execution_count": 22,
   "metadata": {},
   "outputs": [
    {
     "data": {
      "text/plain": [
       "((528235.0252325163, 528352.2544773894),\n",
       " (4558308.168800504, 4558461.813579076))"
      ]
     },
     "execution_count": 22,
     "metadata": {},
     "output_type": "execute_result"
    }
   ],
   "source": [
    "x_min_max = (min(x), max(x))\n",
    "y_min_max = (min(y), max(y))\n",
    "x_min_max, y_min_max"
   ]
  },
  {
   "cell_type": "code",
   "execution_count": 53,
   "metadata": {},
   "outputs": [
    {
     "data": {
      "text/plain": [
       "(528285.0252325163, 4558368.168800504)"
      ]
     },
     "execution_count": 53,
     "metadata": {},
     "output_type": "execute_result"
    }
   ],
   "source": [
    "point = (min(x)+50, min(y)+60)\n",
    "point"
   ]
  },
  {
   "cell_type": "code",
   "execution_count": 54,
   "metadata": {},
   "outputs": [
    {
     "data": {
      "text/html": [
       "<div>\n",
       "<style scoped>\n",
       "    .dataframe tbody tr th:only-of-type {\n",
       "        vertical-align: middle;\n",
       "    }\n",
       "\n",
       "    .dataframe tbody tr th {\n",
       "        vertical-align: top;\n",
       "    }\n",
       "\n",
       "    .dataframe thead th {\n",
       "        text-align: right;\n",
       "    }\n",
       "</style>\n",
       "<table border=\"1\" class=\"dataframe\">\n",
       "  <thead>\n",
       "    <tr style=\"text-align: right;\">\n",
       "      <th></th>\n",
       "      <th>x</th>\n",
       "      <th>y</th>\n",
       "    </tr>\n",
       "  </thead>\n",
       "  <tbody>\n",
       "    <tr>\n",
       "      <th>0</th>\n",
       "      <td>528235.025233</td>\n",
       "      <td>4.558430e+06</td>\n",
       "    </tr>\n",
       "    <tr>\n",
       "      <th>1</th>\n",
       "      <td>528254.023357</td>\n",
       "      <td>4.558416e+06</td>\n",
       "    </tr>\n",
       "    <tr>\n",
       "      <th>2</th>\n",
       "      <td>528252.047749</td>\n",
       "      <td>4.558411e+06</td>\n",
       "    </tr>\n",
       "    <tr>\n",
       "      <th>3</th>\n",
       "      <td>528249.274784</td>\n",
       "      <td>4.558406e+06</td>\n",
       "    </tr>\n",
       "    <tr>\n",
       "      <th>4</th>\n",
       "      <td>528236.707866</td>\n",
       "      <td>4.558383e+06</td>\n",
       "    </tr>\n",
       "  </tbody>\n",
       "</table>\n",
       "</div>"
      ],
      "text/plain": [
       "               x             y\n",
       "0  528235.025233  4.558430e+06\n",
       "1  528254.023357  4.558416e+06\n",
       "2  528252.047749  4.558411e+06\n",
       "3  528249.274784  4.558406e+06\n",
       "4  528236.707866  4.558383e+06"
      ]
     },
     "execution_count": 54,
     "metadata": {},
     "output_type": "execute_result"
    }
   ],
   "source": [
    "df = pd.DataFrame()\n",
    "df['x'] = x\n",
    "df['y'] = y\n",
    "df.head()"
   ]
  },
  {
   "cell_type": "code",
   "execution_count": 55,
   "metadata": {},
   "outputs": [],
   "source": [
    "def expand(min_max, val):\n",
    "    return [min_max[0]-val, min_max[1]+val]"
   ]
  },
  {
   "cell_type": "code",
   "execution_count": 56,
   "metadata": {},
   "outputs": [
    {
     "data": {
      "image/png": "[encoded data removed]",
      "text/plain": [
       "<Figure size 432x288 with 1 Axes>"
      ]
     },
     "metadata": {
      "needs_background": "light"
     },
     "output_type": "display_data"
    }
   ],
   "source": [
    "df.plot(kind='scatter',\n",
    "        x='x',\n",
    "        y='y',\n",
    "        color='yellow')\n",
    "plt.scatter(point[0], point[1], color='red')\n",
    "plt.xlim(expand(x_min_max, 30)) #this is not properly scaled but wtv\n",
    "plt.ylim(expand(y_min_max, 30))\n",
    "plt.show()"
   ]
  },
  {
   "cell_type": "code",
   "execution_count": 35,
   "metadata": {},
   "outputs": [],
   "source": [
    "def point_to_pol(x, y, point):\n",
    "    minimum = float('inf')\n",
    "    for vertex in zip(x, y):\n",
    "        d = distance.euclidean(point, vertex)\n",
    "        if d < minimum:\n",
    "            print('v: ', vertex)\n",
    "            print('p: ', point)\n",
    "            print(d)\n",
    "            \n",
    "            minimum = d\n",
    "    return minimum"
   ]
  },
  {
   "cell_type": "code",
   "execution_count": 36,
   "metadata": {},
   "outputs": [
    {
     "name": "stdout",
     "output_type": "stream",
     "text": [
      "v:  (528235.0252325163, 4558429.807275719)\n",
      "p:  (528225.0252325163, 4558298.168800504)\n",
      "132.01775697589557\n",
      "v:  (528254.0233571968, 4558415.580772001)\n",
      "p:  (528225.0252325163, 4558298.168800504)\n",
      "120.93991188139327\n",
      "v:  (528252.0477489658, 4558411.250182459)\n",
      "p:  (528225.0252325163, 4558298.168800504)\n",
      "116.26528002871234\n",
      "v:  (528249.2747841261, 4558405.833937944)\n",
      "p:  (528225.0252325163, 4558298.168800504)\n",
      "110.3622334552916\n",
      "v:  (528236.7078661452, 4558382.889005128)\n",
      "p:  (528225.0252325163, 4558298.168800504)\n",
      "85.52190947410435\n",
      "v:  (528240.9084744201, 4558380.634965871)\n",
      "p:  (528225.0252325163, 4558298.168800504)\n",
      "83.98181829297769\n",
      "v:  (528247.8138429789, 4558376.939820465)\n",
      "p:  (528225.0252325163, 4558298.168800504)\n",
      "82.00118506748528\n",
      "v:  (528256.0732785045, 4558372.164826549)\n",
      "p:  (528225.0252325163, 4558298.168800504)\n",
      "80.24582873953429\n",
      "v:  (528264.078520304, 4558366.247129556)\n",
      "p:  (528225.0252325163, 4558298.168800504)\n",
      "78.48450913091781\n",
      "v:  (528268.9638553933, 4558362.672342184)\n",
      "p:  (528225.0252325163, 4558298.168800504)\n",
      "78.04684150942754\n",
      "v:  (528273.4448436187, 4558358.937373725)\n",
      "p:  (528225.0252325163, 4558298.168800504)\n",
      "77.69992426375919\n"
     ]
    },
    {
     "data": {
      "text/plain": [
       "77.69992426375919"
      ]
     },
     "execution_count": 36,
     "metadata": {},
     "output_type": "execute_result"
    }
   ],
   "source": [
    "point_to_pol(x, y, point)"
   ]
  },
  {
   "cell_type": "code",
   "execution_count": 43,
   "metadata": {},
   "outputs": [],
   "source": [
    "def point_in_pol(point, pol_x, pol_y):\n",
    "    pol = Polygon(list(zip(pol_x, pol_y)))\n",
    "    point = Point(point)\n",
    "    if pol.contains(point):\n",
    "        return True\n",
    "    \n",
    "    return False"
   ]
  },
  {
   "cell_type": "code",
   "execution_count": 57,
   "metadata": {},
   "outputs": [
    {
     "data": {
      "text/plain": [
       "True"
      ]
     },
     "execution_count": 57,
     "metadata": {},
     "output_type": "execute_result"
    }
   ],
   "source": [
    "point_in_pol(point, x, y)"
   ]
  },
  {
   "cell_type": "code",
   "execution_count": null,
   "metadata": {},
   "outputs": [],
   "source": []
  }
 ],
 "metadata": {
  "kernelspec": {
   "display_name": "hackacity",
   "language": "python",
   "name": "hackacity"
  },
  "language_info": {
   "codemirror_mode": {
    "name": "ipython",
    "version": 3
   },
   "file_extension": ".py",
   "mimetype": "text/x-python",
   "name": "python",
   "nbconvert_exporter": "python",
   "pygments_lexer": "ipython3",
   "version": "3.7.2"
  }
 },
 "nbformat": 4,
 "nbformat_minor": 2
}
